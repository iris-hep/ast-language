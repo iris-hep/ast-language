{
 "cells": [
  {
   "cell_type": "code",
   "execution_count": 1,
   "metadata": {},
   "outputs": [],
   "source": [
    "import os, sys, ast\n",
    "if os.pardir not in sys.path:\n",
    "    sys.path.append(os.pardir)\n",
    "import qastle"
   ]
  },
  {
   "cell_type": "code",
   "execution_count": 2,
   "metadata": {},
   "outputs": [],
   "source": [
    "raw_tree = ast.parse(\"\"\"\n",
    "data_column_source.Select('''lambda Event: (Event.Electrons.pt(),\n",
    "                                            Event.Electrons.eta(),\n",
    "                                            Event.Electrons.phi(),\n",
    "                                            Event.Electrons.e(),\n",
    "                                            Event.Muons.pt(),\n",
    "                                            Event.Muons.eta(),\n",
    "                                            Event.Muons.phi(),\n",
    "                                            Event.Muons.e())''')\n",
    "\"\"\")"
   ]
  },
  {
   "cell_type": "code",
   "execution_count": 3,
   "metadata": {},
   "outputs": [],
   "source": [
    "tree_with_select = qastle.insert_linq_nodes(raw_tree)"
   ]
  },
  {
   "cell_type": "code",
   "execution_count": 4,
   "metadata": {},
   "outputs": [
    {
     "name": "stdout",
     "output_type": "stream",
     "text": [
      "(Select data_column_source (lambda (list Event) (list (call (attr (attr Event 'Electrons') 'pt')) (call (attr (attr Event 'Electrons') 'eta')) (call (attr (attr Event 'Electrons') 'phi')) (call (attr (attr Event 'Electrons') 'e')) (call (attr (attr Event 'Muons') 'pt')) (call (attr (attr Event 'Muons') 'eta')) (call (attr (attr Event 'Muons') 'phi')) (call (attr (attr Event 'Muons') 'e')))))\n"
     ]
    }
   ],
   "source": [
    "text_ast = qastle.python_ast_to_text_ast(tree_with_select)\n",
    "print(text_ast)"
   ]
  },
  {
   "cell_type": "code",
   "execution_count": 5,
   "metadata": {},
   "outputs": [],
   "source": [
    "translated_python_ast = qastle.text_ast_to_python_ast(text_ast)"
   ]
  },
  {
   "cell_type": "code",
   "execution_count": 6,
   "metadata": {},
   "outputs": [
    {
     "data": {
      "text/plain": [
       "'Electrons.pt(), Electrons.eta(), Electrons.phi(), Electrons.e(), Muons.pt(), Muons.eta(), Muons.phi(), Muons.e()'"
      ]
     },
     "execution_count": 6,
     "metadata": {},
     "output_type": "execute_result"
    }
   ],
   "source": [
    "qastle.python_ast_to_columns(translated_python_ast)"
   ]
  },
  {
   "cell_type": "code",
   "execution_count": null,
   "metadata": {},
   "outputs": [],
   "source": []
  }
 ],
 "metadata": {
  "kernelspec": {
   "display_name": "Python 3",
   "language": "python",
   "name": "python3"
  },
  "language_info": {
   "codemirror_mode": {
    "name": "ipython",
    "version": 3
   },
   "file_extension": ".py",
   "mimetype": "text/x-python",
   "name": "python",
   "nbconvert_exporter": "python",
   "pygments_lexer": "ipython3",
   "version": "3.7.4"
  }
 },
 "nbformat": 4,
 "nbformat_minor": 2
}
