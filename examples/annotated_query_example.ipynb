{
 "cells": [
  {
   "cell_type": "markdown",
   "metadata": {},
   "source": [
    "# Text AST example\n",
    "\n",
    "This notebook shows an example of what the text AST looks like for a fairly realistic query and demonstrates how the other packages should translate it from/to a Python AST."
   ]
  },
  {
   "cell_type": "markdown",
   "metadata": {},
   "source": [
    "## Original query specification\n",
    "\n",
    "First, let's specify the query. Without importing `func_adl`, I have to put this in as a big string here. In reality, the user would execute the content of this string as a normal Python statement."
   ]
  },
  {
   "cell_type": "code",
   "execution_count": 1,
   "metadata": {},
   "outputs": [],
   "source": [
    "query_python_source = \"\"\"\n",
    "data_source.Where('lambda e: e.jet_pT.Where(lambda pT: pT > 1000).Count() > 0')\\\n",
    "           .Select('lambda e: [e.eventNumber, e.CalibJet_pT]')\n",
    "\"\"\""
   ]
  },
  {
   "cell_type": "markdown",
   "metadata": {},
   "source": [
    "## Workaround to prepare the Python AST\n",
    "\n",
    "This section is only necessary in this context because I'm not actually using `func_adl`. Some frontend package will do all of this behind the scenes."
   ]
  },
  {
   "cell_type": "markdown",
   "metadata": {},
   "source": [
    "The first thing to do is turn this query into a Python AST. The `ast` module can do this via `parse()`."
   ]
  },
  {
   "cell_type": "code",
   "execution_count": 2,
   "metadata": {},
   "outputs": [],
   "source": [
    "import ast"
   ]
  },
  {
   "cell_type": "code",
   "execution_count": 3,
   "metadata": {},
   "outputs": [],
   "source": [
    "query_raw_python_ast = ast.parse(query_python_source)"
   ]
  },
  {
   "cell_type": "markdown",
   "metadata": {},
   "source": [
    "Now we have a Python AST, but it doesn't know anything about the LINQ-like query nodes (e.g., `Where` and `Select`). The AST needs to be transformed to include these custom nodes. There's a function in `qastle` to accomplish this."
   ]
  },
  {
   "cell_type": "markdown",
   "metadata": {},
   "source": [
    "The following is just needed to import the `qastle` module in this notebook:"
   ]
  },
  {
   "cell_type": "code",
   "execution_count": 4,
   "metadata": {},
   "outputs": [],
   "source": [
    "import os, sys\n",
    "if os.pardir not in sys.path:\n",
    "    sys.path.append(os.pardir)"
   ]
  },
  {
   "cell_type": "markdown",
   "metadata": {},
   "source": [
    "Now import the actual module:"
   ]
  },
  {
   "cell_type": "code",
   "execution_count": 5,
   "metadata": {},
   "outputs": [],
   "source": [
    "import qastle"
   ]
  },
  {
   "cell_type": "markdown",
   "metadata": {},
   "source": [
    "Transform the Python AST by inserting LINQ nodes:"
   ]
  },
  {
   "cell_type": "code",
   "execution_count": 6,
   "metadata": {},
   "outputs": [],
   "source": [
    "query_python_ast = qastle.insert_linq_nodes(query_raw_python_ast)"
   ]
  },
  {
   "cell_type": "markdown",
   "metadata": {},
   "source": [
    "## Translate from Python AST to text AST"
   ]
  },
  {
   "cell_type": "markdown",
   "metadata": {},
   "source": [
    "The actual translation step is now as simple as running one function:"
   ]
  },
  {
   "cell_type": "code",
   "execution_count": 7,
   "metadata": {},
   "outputs": [
    {
     "name": "stdout",
     "output_type": "stream",
     "text": [
      "(Select (Where data_source (lambda (list e) (> (Count (Where (attr e 'jet_pT') (lambda (list pT) (> pT 1000)))) 0))) (lambda (list e) (list (attr e 'eventNumber') (attr e 'CalibJet_pT'))))\n"
     ]
    }
   ],
   "source": [
    "text_ast = qastle.python_ast_to_text_ast(query_python_ast)\n",
    "print(text_ast)"
   ]
  },
  {
   "cell_type": "markdown",
   "metadata": {},
   "source": [
    "The above output is the text AST version of the query."
   ]
  },
  {
   "cell_type": "markdown",
   "metadata": {},
   "source": [
    "Lastly, the backend will need to be able to take in this text AST string and turn it back into a Python AST that it can use to generate the code that extracts this selection from data. There is another function to handle this:"
   ]
  },
  {
   "cell_type": "code",
   "execution_count": 8,
   "metadata": {},
   "outputs": [],
   "source": [
    "roundtrip_python_ast = qastle.text_ast_to_python_ast(text_ast)"
   ]
  },
  {
   "cell_type": "markdown",
   "metadata": {},
   "source": [
    "Finally, we can take a look at the resulting Python AST:"
   ]
  },
  {
   "cell_type": "code",
   "execution_count": 9,
   "metadata": {},
   "outputs": [
    {
     "name": "stdout",
     "output_type": "stream",
     "text": [
      "Module(body=[Expr(value=Select(source=Where(source=Name(id='data_source', ctx=Load()), predicate=Lambda(args=arguments(args=[arg(arg='e', annotation=None)], vararg=None, kwonlyargs=[], kw_defaults=[], kwarg=None, defaults=[]), body=Compare(left=Count(source=Where(source=Attribute(value=Name(id='e', ctx=Load()), attr='jet_pT', ctx=Load()), predicate=Lambda(args=arguments(args=[arg(arg='pT', annotation=None)], vararg=None, kwonlyargs=[], kw_defaults=[], kwarg=None, defaults=[]), body=Compare(left=Name(id='pT', ctx=Load()), ops=[Gt()], comparators=[Num(n=1000)])))), ops=[Gt()], comparators=[Num(n=0)]))), selector=Lambda(args=arguments(args=[arg(arg='e', annotation=None)], vararg=None, kwonlyargs=[], kw_defaults=[], kwarg=None, defaults=[]), body=List(elts=[Attribute(value=Name(id='e', ctx=Load()), attr='eventNumber', ctx=Load()), Attribute(value=Name(id='e', ctx=Load()), attr='CalibJet_pT', ctx=Load())], ctx=Load()))))])\n"
     ]
    }
   ],
   "source": [
    "print(ast.dump(roundtrip_python_ast))"
   ]
  },
  {
   "cell_type": "markdown",
   "metadata": {},
   "source": [
    "...but it's quite difficult to read. As an easy check, we can just verify that it's identical to the original LINQ-query Python AST used to generate the text AST:"
   ]
  },
  {
   "cell_type": "code",
   "execution_count": 10,
   "metadata": {},
   "outputs": [
    {
     "data": {
      "text/plain": [
       "True"
      ]
     },
     "execution_count": 10,
     "metadata": {},
     "output_type": "execute_result"
    }
   ],
   "source": [
    "ast.dump(roundtrip_python_ast) == ast.dump(query_python_ast)"
   ]
  },
  {
   "cell_type": "code",
   "execution_count": null,
   "metadata": {},
   "outputs": [],
   "source": []
  }
 ],
 "metadata": {
  "kernelspec": {
   "display_name": "Python 3",
   "language": "python",
   "name": "python3"
  },
  "language_info": {
   "codemirror_mode": {
    "name": "ipython",
    "version": 3
   },
   "file_extension": ".py",
   "mimetype": "text/x-python",
   "name": "python",
   "nbconvert_exporter": "python",
   "pygments_lexer": "ipython3",
   "version": "3.7.4"
  }
 },
 "nbformat": 4,
 "nbformat_minor": 2
}
